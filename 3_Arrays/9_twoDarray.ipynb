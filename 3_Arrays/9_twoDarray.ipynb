{
 "cells": [
  {
   "cell_type": "code",
   "execution_count": 1,
   "id": "27c771e8",
   "metadata": {},
   "outputs": [],
   "source": [
    "import numpy as np\n"
   ]
  },
  {
   "cell_type": "code",
   "execution_count": 2,
   "id": "1abaa50d",
   "metadata": {},
   "outputs": [
    {
     "name": "stdout",
     "output_type": "stream",
     "text": [
      "[[1 2 3]\n",
      " [4 5 6]\n",
      " [7 8 9]]\n"
     ]
    }
   ],
   "source": [
    "twoD = np.array([[1,2,3],[4,5,6],[7,8,9]])\n",
    "print(twoD)"
   ]
  },
  {
   "cell_type": "code",
   "execution_count": 3,
   "id": "8b55dbc8",
   "metadata": {},
   "outputs": [],
   "source": [
    "newArray  = np.insert(twoD, 0, [[10,11,12]],axis = 0)"
   ]
  },
  {
   "cell_type": "code",
   "execution_count": 4,
   "id": "700597c0",
   "metadata": {},
   "outputs": [
    {
     "name": "stdout",
     "output_type": "stream",
     "text": [
      "[[10 11 12]\n",
      " [ 1  2  3]\n",
      " [ 4  5  6]\n",
      " [ 7  8  9]]\n"
     ]
    }
   ],
   "source": [
    "print(newArray)"
   ]
  },
  {
   "cell_type": "code",
   "execution_count": 5,
   "id": "0d673392",
   "metadata": {},
   "outputs": [
    {
     "name": "stdout",
     "output_type": "stream",
     "text": [
      "[[13  1  2  3]\n",
      " [14  4  5  6]\n",
      " [15  7  8  9]]\n"
     ]
    }
   ],
   "source": [
    "newsArray = np.insert(twoD,0,[[13,14,15]],axis = 1)\n",
    "print(newsArray)"
   ]
  },
  {
   "cell_type": "code",
   "execution_count": 6,
   "id": "eda9fe33",
   "metadata": {},
   "outputs": [
    {
     "name": "stdout",
     "output_type": "stream",
     "text": [
      "[[ 1  2  3]\n",
      " [ 4  5  6]\n",
      " [ 7  8  9]\n",
      " [14 15 17]]\n"
     ]
    }
   ],
   "source": [
    "appendedArray = np.append(twoD,[[14,15,17]],axis = 0)\n",
    "print(appendedArray)"
   ]
  },
  {
   "cell_type": "code",
   "execution_count": 7,
   "id": "67260e9f",
   "metadata": {},
   "outputs": [
    {
     "name": "stdout",
     "output_type": "stream",
     "text": [
      "9\n"
     ]
    }
   ],
   "source": [
    "def sorting(array, rowIndex, colIndex):\n",
    "    if rowIndex >= len(array) or colIndex >= len(array[0]):\n",
    "        print('There was an error')\n",
    "    else:\n",
    "        print(array[rowIndex][colIndex])\n",
    "sorting(twoD,2,2)"
   ]
  },
  {
   "cell_type": "code",
   "execution_count": 8,
   "id": "cbea6b3e",
   "metadata": {},
   "outputs": [
    {
     "name": "stdout",
     "output_type": "stream",
     "text": [
      "1\n",
      "2\n",
      "3\n",
      "4\n",
      "5\n",
      "6\n",
      "7\n",
      "8\n",
      "9\n"
     ]
    }
   ],
   "source": [
    "def transversal(array):\n",
    "    for i in range(len(array)):\n",
    "        for j in range(len(array[1])):\n",
    "            print(array[i][j])\n",
    "transversal(twoD)"
   ]
  },
  {
   "cell_type": "code",
   "execution_count": 11,
   "id": "53b41296",
   "metadata": {},
   "outputs": [
    {
     "data": {
      "text/plain": [
       "'The value is located in 2 1'"
      ]
     },
     "execution_count": 11,
     "metadata": {},
     "output_type": "execute_result"
    }
   ],
   "source": [
    "def search(array, value):\n",
    "    for i in range(len(array)):\n",
    "        for j in range(len(array[0])):\n",
    "            if array[i][j] == value:\n",
    "                return 'The value is located in '+str(i)+\" \"+str(j)\n",
    "            \n",
    "    return 'There was an error'\n",
    "search(twoD, 8)"
   ]
  },
  {
   "cell_type": "code",
   "execution_count": 12,
   "id": "41019bde",
   "metadata": {},
   "outputs": [
    {
     "name": "stdout",
     "output_type": "stream",
     "text": [
      "[[4 5 6]\n",
      " [7 8 9]]\n"
     ]
    }
   ],
   "source": [
    "newTd = np.delete(twoD, 0 , axis = 0)\n",
    "print(newTd)"
   ]
  },
  {
   "cell_type": "code",
   "execution_count": null,
   "id": "697e30ca",
   "metadata": {},
   "outputs": [],
   "source": []
  }
 ],
 "metadata": {
  "kernelspec": {
   "display_name": "Python 3 (ipykernel)",
   "language": "python",
   "name": "python3"
  },
  "language_info": {
   "codemirror_mode": {
    "name": "ipython",
    "version": 3
   },
   "file_extension": ".py",
   "mimetype": "text/x-python",
   "name": "python",
   "nbconvert_exporter": "python",
   "pygments_lexer": "ipython3",
   "version": "3.9.13"
  }
 },
 "nbformat": 4,
 "nbformat_minor": 5
}
